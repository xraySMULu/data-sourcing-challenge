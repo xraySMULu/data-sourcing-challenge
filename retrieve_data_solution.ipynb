{
 "cells": [
  {
   "cell_type": "markdown",
   "metadata": {},
   "source": [
    "### Import Required Libraries and Set Up Environment Variables"
   ]
  },
  {
   "cell_type": "code",
   "execution_count": null,
   "metadata": {},
   "outputs": [],
   "source": [
    "# Dependencies\n",
    "import requests\n",
    "import time\n",
    "from dotenv import load_dotenv\n",
    "import os\n",
    "import pandas as pd\n",
    "import json\n",
    "import os"
   ]
  },
  {
   "cell_type": "code",
   "execution_count": null,
   "metadata": {},
   "outputs": [],
   "source": [
    "# Set environment variables from the .env in the local environment\n",
    "load_dotenv()\n",
    "NASA_API_KEY = os.getenv('NASA_API_KEY')"
   ]
  },
  {
   "cell_type": "markdown",
   "metadata": {},
   "source": [
    "### CME Data"
   ]
  },
  {
   "cell_type": "code",
   "execution_count": null,
   "metadata": {},
   "outputs": [],
   "source": [
    "# Set the base URL to NASA's DONKI API:\n",
    "base_url = \"https://api.nasa.gov/DONKI\"\n",
    "\n",
    "# Set the specifier for CMEs:\n",
    "CME = \"CME\"\n",
    "\n",
    "# Search for CMEs published between a begin and end date\n",
    "startDate = \"2013-05-01\"\n",
    "endDate   = \"2024-05-01\"\n",
    "\n",
    "# Build URL for CME\n",
    "cme_url = f\"{base_url}/{CME}?api_key={NASA_API_KEY}&startDate={startDate}&endDate={endDate}\"\n",
    "\n",
    "def convertToDF(dfJSON):\n",
    "    return(pd.json_normalize(dfJSON))"
   ]
  },
  {
   "cell_type": "code",
   "execution_count": null,
   "metadata": {},
   "outputs": [],
   "source": [
    "# Make a \"GET\" request for the CME URL and store it in a variable named cme_response\n",
    "# NOTE-cme_response not needed, conversion done in one line and set to cme_json\n",
    "cme_json = requests.get(cme_url).json()"
   ]
  },
  {
   "cell_type": "code",
   "execution_count": null,
   "metadata": {
    "scrolled": true
   },
   "outputs": [],
   "source": [
    "# All elements - Use json.dumps with argument indent=4 to format data\n",
    "print(json.dumps(cme_json, indent=4))"
   ]
  },
  {
   "cell_type": "code",
   "execution_count": null,
   "metadata": {},
   "outputs": [],
   "source": [
    "def convertToDF(dfJSON):\n",
    "    return(pd.json_normalize(dfJSON))\n",
    "# Convert cme_json to a Pandas DataFrame \n",
    "# Keep only the columns: activityID, startTime, linkedEvents\n",
    "cme_df = convertToDF(cme_json)\n",
    "cme_df = cme_df[['activityID', 'startTime','linkedEvents']]\n",
    "cme_df\n"
   ]
  },
  {
   "cell_type": "code",
   "execution_count": null,
   "metadata": {},
   "outputs": [],
   "source": [
    "# Notice that the linkedEvents column allows us to identify the corresponding GST\n",
    "# Remove rows with missing 'linkedEvents' since we won't be able to assign these to GSTs\n",
    "cme_df.dropna(subset=['linkedEvents'], inplace=True)\n",
    "cme_df"
   ]
  },
  {
   "cell_type": "code",
   "execution_count": null,
   "metadata": {},
   "outputs": [],
   "source": [
    "# Notice that the linkedEvents sometimes contains multiple events per row\n",
    "# Write a nested for loop that iterates first over each row in the cme DataFrame (using the index)\n",
    "# and then iterates over the values in 'linkedEvents' \n",
    "# and adds the elements individually to a list of dictionaries where each row is one element \n",
    "\n",
    "# Create a new DataFrame from the expanded rows\n",
    "# Initialize an empty list to store the expanded rows\n",
    "expanded_rows = []\n",
    "\n",
    "# Iterate over each index in the DataFrame\n",
    "for i in cme_df.index:\n",
    "    activityID       = cme_df.loc[i, 'activityID']         # Get the corresponding value from 'activityID'\n",
    "    startTime        = cme_df.loc[i, 'startTime']     # Get the corresponding value from 'startTime'    \n",
    "    linkedEvents_col = cme_df.loc[i, 'linkedEvents']  # Get the list of dictionaries in 'linkedEvents'\n",
    "    \n",
    "    # Iterate over each dictionary in the list\n",
    "    for item in linkedEvents_col:\n",
    "        # Create a new row with the dictionary and corresponding 'activityID' and 'startTime' value\n",
    "        expanded_rows.append({'activityID': activityID, 'startTime': startTime, 'linkedEvents': item})\n",
    "\n",
    "# Create a new DataFrame from the expanded rows\n",
    "cme_df_ex = pd.DataFrame(expanded_rows)\n",
    "\n",
    "# Use the head function to show the dataframe\n",
    "cme_df_ex.head()"
   ]
  },
  {
   "cell_type": "code",
   "execution_count": null,
   "metadata": {},
   "outputs": [],
   "source": [
    "# Create a function called extract_activityID_from_dict that takes a dict as input such as in linkedEvents\n",
    "# Be sure to use a try and except block to handle errors\n",
    "# Log the error or print it for debugging\n",
    "def extract_activityID_from_dict(input_dict):\n",
    "    try:\n",
    "        activityID = input_dict.get(\"activityID\", None)\n",
    "        return activityID\n",
    "    except (ValueError, TypeError) as e:\n",
    "        # Log the error or print it for debugging\n",
    "        print(f\"Error processing input dictionary: {input_dict}. Error: {e}\")\n",
    "        return None\n",
    "\n",
    "# Verify that it works as expected using one row from linkedEvents as an example    \n",
    "extract_activityID_from_dict(cme_df_ex.loc[0,'linkedEvents'])"
   ]
  },
  {
   "cell_type": "code",
   "execution_count": null,
   "metadata": {},
   "outputs": [],
   "source": [
    "# Apply this function to each row in the 'linkedEvents' column (you can use apply() and a lambda function)\n",
    "# and create a new column called 'GST_ActivityID' using loc indexer:\n",
    "cme_df_ex['GST_ActivityID'] = cme_df_ex['linkedEvents'].apply(lambda x: extract_activityID_from_dict(x))"
   ]
  },
  {
   "cell_type": "code",
   "execution_count": null,
   "metadata": {},
   "outputs": [],
   "source": [
    "# Remove rows with missing GST_ActivityID, since we can't assign them to GSTs:\n",
    "cme_df_ex.dropna(subset=['GST_ActivityID'], inplace=True)\n",
    "cme_df_ex"
   ]
  },
  {
   "cell_type": "code",
   "execution_count": null,
   "metadata": {},
   "outputs": [],
   "source": [
    "# print out the datatype of each column in this DataFrame:\n",
    "#print(df_for_loop.dtypes)\n",
    "cme_df_ex.info()"
   ]
  },
  {
   "cell_type": "code",
   "execution_count": null,
   "metadata": {},
   "outputs": [],
   "source": [
    "# Convert the 'GST_ActivityID' column to string format \n",
    "cme_df_ex['GST_ActivityID'] = pd.Series(cme_df_ex[\"GST_ActivityID\"], dtype=\"string\")\n",
    "# Convert startTime to datetime format  \n",
    "cme_df_ex['startTime'] = pd.to_datetime(cme_df_ex['startTime'], format=\"%Y-%m-%dT%H:%MZ\", errors='coerce')"
   ]
  },
  {
   "cell_type": "code",
   "execution_count": null,
   "metadata": {},
   "outputs": [],
   "source": [
    "# Rename startTime to startTime_CME and activityID to cmeID\n",
    "cme_df_ex.rename(columns={\"activityID\": \"cmeID\", \"startTime\": \"startTime_CME\"}, inplace=True)    \n",
    "# Drop linkedEvents\n",
    "cme_df_ex=cme_df_ex.drop(columns=[\"linkedEvents\"])\n",
    "cme_df_ex"
   ]
  },
  {
   "cell_type": "code",
   "execution_count": null,
   "metadata": {},
   "outputs": [],
   "source": [
    "# print out the datatype of each column in this DataFrame:\n",
    "cme_df_ex.info()"
   ]
  },
  {
   "cell_type": "code",
   "execution_count": null,
   "metadata": {},
   "outputs": [],
   "source": [
    "# We are only interested in CMEs related to GSTs so keep only rows where the GST_ActivityID column contains 'GST'\n",
    "# use the method 'contains()' from the str library.  \n",
    "cme_df_ex = cme_df_ex[cme_df_ex['GST_ActivityID'].str.contains('GST')]\n",
    "cme_df_ex"
   ]
  },
  {
   "cell_type": "markdown",
   "metadata": {},
   "source": [
    "### GST Data"
   ]
  },
  {
   "cell_type": "code",
   "execution_count": null,
   "metadata": {},
   "outputs": [],
   "source": [
    "# Build URL for GST\n",
    "# Set the base URL to NASA's DONKI API:\n",
    "base_url = \"https://api.nasa.gov/DONKI\"\n",
    "\n",
    "# Set the specifier for CMEs:\n",
    "GST = \"GST\"\n",
    "\n",
    "# Search for CMEs published between a begin and end date\n",
    "startDate = \"2013-05-01\"\n",
    "endDate   = \"2024-05-01\"\n",
    "\n",
    "# Build URL for GST\n",
    "gst_url = f\"{base_url}/{GST}?api_key={NASA_API_KEY}&startDate={startDate}&endDate={endDate}\"\n",
    "print(gst_url)"
   ]
  },
  {
   "cell_type": "code",
   "execution_count": null,
   "metadata": {},
   "outputs": [],
   "source": [
    "# Make a \"GET\" request for the CME URL and store it in a variable named gst_response\n",
    "# NOTE-gst_response not needed, conversion done in one line and set to gst_json\n",
    "gst_json = requests.get(gst_url).json()"
   ]
  },
  {
   "cell_type": "code",
   "execution_count": null,
   "metadata": {},
   "outputs": [],
   "source": [
    "# Preview the first result in JSON format\n",
    "# Use json.dumps with argument indent=4 to format data\n",
    "print(json.dumps(gst_json, indent=4))"
   ]
  },
  {
   "cell_type": "code",
   "execution_count": null,
   "metadata": {},
   "outputs": [],
   "source": [
    "def convertToDF(dfJSON):\n",
    "    return(pd.json_normalize(dfJSON))\n",
    "# Convert cme_json to a Pandas DataFrame \n",
    "# Keep only the columns: gstID, startTime, linkedEvents\n",
    "gst_df = convertToDF(gst_json)\n",
    "gst_df = gst_df[['gstID', 'startTime','linkedEvents']]\n",
    "gst_df"
   ]
  },
  {
   "cell_type": "code",
   "execution_count": null,
   "metadata": {},
   "outputs": [],
   "source": [
    "# Notice that the linkedEvents column allows us to identify the corresponding CME\n",
    "# Remove rows with missing 'linkedEvents' since we won't be able to assign these to CME\n",
    "gst_df.dropna(subset=['linkedEvents'], inplace=True)\n",
    "gst_df\n"
   ]
  },
  {
   "cell_type": "code",
   "execution_count": null,
   "metadata": {},
   "outputs": [],
   "source": [
    "# Notice that the linkedEvents sometimes contains multiple events per row\n",
    "# Use the explode method to ensure that each row is one element. Ensure to reset the index and drop missing values.\n",
    "gst_df = gst_df.explode('linkedEvents')\n",
    "# Reset the index\n",
    "gst_df = gst_df.reset_index(drop=True).dropna()\n",
    "# Use the head function to show the dataframe\n",
    "gst_df.head()"
   ]
  },
  {
   "cell_type": "code",
   "execution_count": null,
   "metadata": {},
   "outputs": [],
   "source": [
    "# Apply the extract_activityID_from_dict function to each row in the 'linkedEvents' column (you can use apply() and a lambda function)\n",
    "def extract_activityID_from_dict(input_dict):\n",
    "    try:\n",
    "        activityID = input_dict.get(\"activityID\", None)\n",
    "        return activityID\n",
    "    except (ValueError, TypeError) as e:\n",
    "        # Log the error or print it for debugging\n",
    "        print(f\"Error processing input dictionary: {input_dict}. Error: {e}\")\n",
    "        return None\n",
    "        \n",
    "# and create a new column called 'CME_ActivityID':\n",
    "gst_df['CME_ActivityID'] = gst_df['linkedEvents'].apply(lambda x: extract_activityID_from_dict(x))"
   ]
  },
  {
   "cell_type": "code",
   "execution_count": null,
   "metadata": {},
   "outputs": [],
   "source": [
    "# Remove rows with missing CME_ActivityID, since we can't assign them to CMEs:\n",
    "gst_df.dropna(subset=['CME_ActivityID'], inplace=True)\n",
    "gst_df"
   ]
  },
  {
   "cell_type": "code",
   "execution_count": null,
   "metadata": {},
   "outputs": [],
   "source": [
    "# Convert the 'CME_ActivityID' column to string format\n",
    "gst_df['CME_ActivityID'] = pd.Series(gst_df[\"CME_ActivityID\"], dtype=\"string\")\n",
    "# Convert the 'gstID' column to string format \n",
    "gst_df['gstID'] = pd.Series(gst_df[\"gstID\"], dtype=\"string\")\n",
    "# Convert startTime to datetime format  \n",
    "gst_df['startTime'] = pd.to_datetime(gst_df['startTime'], format=\"%Y-%m-%dT%H:%MZ\", errors='coerce')"
   ]
  },
  {
   "cell_type": "code",
   "execution_count": null,
   "metadata": {},
   "outputs": [],
   "source": [
    "# Rename startTime to startTime_GST\n",
    "gst_df.rename(columns={\"startTime\":\"startTime_GST\"}, inplace=True)\n",
    "\n",
    "# Drop linkedEvents\n",
    "gst_df=gst_df.drop(columns=[\"linkedEvents\"])\n",
    "\n",
    "# Verify that all steps were executed correctly\n",
    "gst_df"
   ]
  },
  {
   "cell_type": "code",
   "execution_count": null,
   "metadata": {},
   "outputs": [],
   "source": [
    "gst_df.info()\n",
    "# We are only interested in GSTs related to CMEs so keep only rows where the CME_ActivityID column contains 'CME'\n",
    "# use the method 'contains()' from the str library.  \n",
    "gst_df = gst_df[gst_df['CME_ActivityID'].str.contains('CME')]\n",
    "gst_df"
   ]
  },
  {
   "cell_type": "markdown",
   "metadata": {},
   "source": [
    "### Merge both datatsets"
   ]
  },
  {
   "cell_type": "code",
   "execution_count": null,
   "metadata": {},
   "outputs": [],
   "source": [
    "# Now merge both datasets using 'gstID' and 'CME_ActivityID' for gst and 'GST_ActivityID' and 'cmeID' for cme. Use the 'left_on' and 'right_on' specifiers.\n",
    "merged_df = pd.merge(cme_df_ex,gst_df,left_on=['GST_ActivityID','cmeID'],right_on=['gstID','CME_ActivityID'])\n",
    "display(merged_df)"
   ]
  },
  {
   "cell_type": "code",
   "execution_count": null,
   "metadata": {},
   "outputs": [],
   "source": [
    "merged_df.info()\n",
    "gst_df.info()\n",
    "cme_df_ex.info()"
   ]
  },
  {
   "cell_type": "code",
   "execution_count": null,
   "metadata": {},
   "outputs": [],
   "source": [
    "# Verify that the new DataFrame has the same number of rows as cme and gst\n",
    "merged_row_count = len(merged_df)\n",
    "print(merged_row_count)\n",
    "cme_row_count = len(cme_df_ex)\n",
    "print(cme_row_count)\n",
    "gst_row_count = len(gst_df)\n",
    "print(gst_row_count)"
   ]
  },
  {
   "cell_type": "markdown",
   "metadata": {},
   "source": [
    "### Computing the time it takes for a CME to cause a GST"
   ]
  },
  {
   "cell_type": "code",
   "execution_count": null,
   "metadata": {},
   "outputs": [],
   "source": [
    "# Compute the time diff between startTime_GST and startTime_CME by creating a new column called `timeDiff`.\n",
    "merged_df['timediff'] = merged_df.apply(lambda x: x[\"startTime_CME\"] - x[\"startTime_GST\"], axis=1)\n",
    "display(merged_df)"
   ]
  },
  {
   "cell_type": "code",
   "execution_count": null,
   "metadata": {},
   "outputs": [],
   "source": [
    "# Use describe() to compute the mean and median time \n",
    "# that it takes for a CME to cause a GST. \n",
    "\n",
    "description = merged_df.describe()\n",
    "mean_of_timediff = description['timediff']['mean']\n",
    "print(mean_of_timediff)\n",
    "median_of_timediff = description.loc['50%','timediff']\n",
    "print(median_of_timediff)\n"
   ]
  },
  {
   "cell_type": "markdown",
   "metadata": {},
   "source": [
    "### Exporting data in csv format"
   ]
  },
  {
   "cell_type": "code",
   "execution_count": null,
   "metadata": {},
   "outputs": [],
   "source": [
    "# Export data to CSV without the index\n",
    "# Save the DataFrame as a CSV\n",
    "# Note: To avoid any issues later, use encoding=\"utf-8\"\n",
    "merged_df.to_csv(\"retrieve_data_solution_output.csv\", encoding=\"utf-8\", index=False)"
   ]
  }
 ],
 "metadata": {
  "kernelspec": {
   "display_name": "base",
   "language": "python",
   "name": "python3"
  },
  "language_info": {
   "codemirror_mode": {
    "name": "ipython",
    "version": 3
   },
   "file_extension": ".py",
   "mimetype": "text/x-python",
   "name": "python",
   "nbconvert_exporter": "python",
   "pygments_lexer": "ipython3",
   "version": "3.12.4"
  },
  "varInspector": {
   "cols": {
    "lenName": 16,
    "lenType": 16,
    "lenVar": 40
   },
   "kernels_config": {
    "python": {
     "delete_cmd_postfix": "",
     "delete_cmd_prefix": "del ",
     "library": "var_list.py",
     "varRefreshCmd": "print(var_dic_list())"
    },
    "r": {
     "delete_cmd_postfix": ") ",
     "delete_cmd_prefix": "rm(",
     "library": "var_list.r",
     "varRefreshCmd": "cat(var_dic_list()) "
    }
   },
   "types_to_exclude": [
    "module",
    "function",
    "builtin_function_or_method",
    "instance",
    "_Feature"
   ],
   "window_display": false
  }
 },
 "nbformat": 4,
 "nbformat_minor": 4
}
